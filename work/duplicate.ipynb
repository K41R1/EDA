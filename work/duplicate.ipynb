{
 "cells": [
  {
   "cell_type": "code",
   "execution_count": 1,
   "metadata": {},
   "outputs": [],
   "source": [
    "import pandas as pd\n",
    "from faker import Faker\n",
    "import numpy as np\n",
    "import random\n",
    "import datetime"
   ]
  },
  {
   "cell_type": "code",
   "execution_count": 4,
   "metadata": {},
   "outputs": [
    {
     "data": {
      "text/plain": [
       "array([0.07809523, 0.24624998, 0.87731455, 0.0985    , 0.8756041 ,\n",
       "       0.08087217, 0.70050783, 0.72559712, 0.64674787, 0.49428705,\n",
       "       0.82785309, 0.06128753, 0.68232166, 0.42458058, 0.70844369,\n",
       "       0.9535626 , 0.72141512, 0.31000253, 0.3986348 , 0.36725143,\n",
       "       0.73423625, 0.96172055, 0.19672686, 0.76468448])"
      ]
     },
     "execution_count": 4,
     "metadata": {},
     "output_type": "execute_result"
    }
   ],
   "source": [
    "faker = Faker()"
   ]
  },
  {
   "cell_type": "code",
   "execution_count": 11,
   "metadata": {},
   "outputs": [],
   "source": [
    "sectors = ['Service', 'Agriculture', 'Industry']\n",
    "forms = ['SARL', 'SUARL', 'SOD', 'SA']\n",
    "genders = ['M', 'F']\n",
    "years = [2007, 2008, 2009, 2010, 2011, 2012, 2013, 2014, 2015]\n",
    "govs = ['Kasserine', 'Siliana', 'Kebili', 'Tunis', 'Ariana', 'Bizerte', 'Mannouba', 'Ben Arous', 'Jendouba', 'Beja', 'Kef', 'Sfax', 'Sousse', 'Monastir', 'Mahdia', 'Gabes', 'Gafsa', 'Medenin', 'Tataouine', 'Nabeul', 'Tozeur', 'Kairouan', 'Sidi Bouzid', 'Zaghouan']\n",
    "start = datetime.datetime(year=2007, month=1, day=1)\n",
    "end = datetime.datetime(year=2015, month=12, day=31)"
   ]
  },
  {
   "cell_type": "code",
   "execution_count": 12,
   "metadata": {},
   "outputs": [],
   "source": [
    "def generate_line():\n",
    "    sector = random.choice(sectors)\n",
    "    form = random.choice(forms)\n",
    "    gender = random.choices(genders, weights=[0.8, 0.2], k=1)[0]\n",
    "    gov = random.choices(govs, weights=np.random.rand(24), k=1)[0]\n",
    "    capital = random.randint(1000, 10000000)\n",
    "    date = faker.date_between(start, end)\n",
    "    year = date.year\n",
    "    return [year, str(date), gender, capital, sector, form, gov]"
   ]
  },
  {
   "cell_type": "code",
   "execution_count": 13,
   "metadata": {},
   "outputs": [],
   "source": [
    "data = []\n",
    "for i in range(20000):\n",
    "    data.append(generate_line())"
   ]
  },
  {
   "cell_type": "code",
   "execution_count": 14,
   "metadata": {},
   "outputs": [],
   "source": [
    "df = pd.DataFrame(data, columns=['year', 'creation', 'gender', 'capital', 'sector', 'form', 'governorate'])"
   ]
  },
  {
   "cell_type": "code",
   "execution_count": 16,
   "metadata": {},
   "outputs": [],
   "source": [
    "df.to_csv('../investment-data/20k.csv', index=True, index_label=\"id\")"
   ]
  }
 ],
 "metadata": {
  "kernelspec": {
   "display_name": "Python 3",
   "language": "python",
   "name": "python3"
  },
  "language_info": {
   "codemirror_mode": {
    "name": "ipython",
    "version": 3
   },
   "file_extension": ".py",
   "mimetype": "text/x-python",
   "name": "python",
   "nbconvert_exporter": "python",
   "pygments_lexer": "ipython3",
   "version": "3.8.3"
  }
 },
 "nbformat": 4,
 "nbformat_minor": 4
}
